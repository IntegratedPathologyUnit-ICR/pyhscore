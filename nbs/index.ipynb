{
 "cells": [
  {
   "cell_type": "code",
   "execution_count": null,
   "metadata": {},
   "outputs": [],
   "source": [
    "#| hide\n",
    "from pyhscore.score import *"
   ]
  },
  {
   "cell_type": "markdown",
   "metadata": {},
   "source": [
    "# pyhscore\n",
    "\n",
    "> Compute H-scores in Python, including the canonical cell-based H-score and a pixel-wise implementation inspired by Ram et al. 2021."
   ]
  },
  {
   "cell_type": "markdown",
   "metadata": {},
   "source": [
    "This file will become your README and also the index of your documentation."
   ]
  },
  {
   "cell_type": "markdown",
   "metadata": {},
   "source": [
    "## Install"
   ]
  },
  {
   "cell_type": "markdown",
   "metadata": {},
   "source": [
    "```sh\n",
    "pip install pyhscore\n",
    "```"
   ]
  },
  {
   "cell_type": "markdown",
   "metadata": {},
   "source": [
    "## How to use"
   ]
  },
  {
   "cell_type": "markdown",
   "metadata": {},
   "source": [
    "Fill me in please! Don't forget code examples:"
   ]
  },
  {
   "cell_type": "code",
   "execution_count": null,
   "metadata": {},
   "outputs": [
    {
     "name": "stdout",
     "output_type": "stream",
     "text": [
      "Help on function compute_pxlhscore in module pyhscore.score:\n",
      "\n",
      "compute_pxlhscore(hed_img, h_threshold=0.05, d_thresholds=[0.12, 0.24, 0.6], verbose=False)\n",
      "    Computes the pixel H-score for a given HED (Hematoxylin and Eosin-DAB) stained image.\n",
      "\n",
      "    The H-score is calculated based on the intensity of the DAB stain, which is\n",
      "    indicative of the presence and quantity of a specific biomarker in IHC images.\n",
      "    The function allows for automatic thresholding based on the distribution of staining intensities.\n",
      "    Inspired by the implementation in Ram et al. 2021.\n",
      "\n",
      "    Parameters:\n",
      "    - hed_img (numpy.ndarray): The HED-stained image as a NumPy array of shape\n",
      "        (height, width, channels).\n",
      "    - h_threshold (str or float): Threshold for Hematoxylin intensity.\n",
      "        If 'auto', the threshold is set to the mean intensity.\n",
      "    - d_thresholds (str or list of floats): Thresholds for DAB intensity,\n",
      "        defining negative, low, medium, and high intensity ranges.\n",
      "        If 'auto', thresholds are set to the 90th, 94.95th, and 99.9th percentiles.\n",
      "    - verbose (bool): If True, displays histograms of the distributions of\n",
      "        Hematoxylin and DAB stain values, and images showing pixels classified\n",
      "        as high, medium, low, and negative DAB stained.\n",
      "\n",
      "    Returns:\n",
      "    - pxlHscore (float): The pixel H-score, a weighted sum of pixels classified\n",
      "        as having high, medium, or low DAB intensity,\n",
      "        normalized by the total number of pixels considered.\n",
      "\n"
     ]
    }
   ],
   "source": [
    "from pyhscore import score\n",
    "\n",
    "help(score.compute_pxlhscore)"
   ]
  }
 ],
 "metadata": {
  "kernelspec": {
   "display_name": "python3",
   "language": "python",
   "name": "python3"
  }
 },
 "nbformat": 4,
 "nbformat_minor": 4
}
