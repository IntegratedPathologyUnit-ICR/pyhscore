{
 "cells": [
  {
   "cell_type": "code",
   "execution_count": null,
   "metadata": {},
   "outputs": [],
   "source": [
    "#| hide\n",
    "from pyhscore.score import *"
   ]
  },
  {
   "cell_type": "markdown",
   "metadata": {},
   "source": [
    "::: {.content-visible when-format=\"markdown\"} \n",
    "![CI](https://github.com/IntegratedPathologyUnit-ICR/pyhscore/actions/workflows/test.yaml/badge.svg) \n",
    "[![PyPI version](https://badge.fury.io/py/pyhscore.svg)](https://badge.fury.io/py/pyhscore)\n",
    "[![DOI](https://zenodo.org/badge/DOI/10.5281/zenodo.12531732.svg)](https://doi.org/10.5281/zenodo.12531732)\n",
    "::: "
   ]
  },
  {
   "cell_type": "markdown",
   "metadata": {},
   "source": [
    "# pyhscore\n",
    "\n",
    "> Compute H-scores in Python, including the canonical cell-based H-score and a pixel-wise implementation inspired by Ram et al. 2021."
   ]
  },
  {
   "cell_type": "markdown",
   "metadata": {},
   "source": []
  },
  {
   "cell_type": "markdown",
   "metadata": {},
   "source": [
    "## Install"
   ]
  },
  {
   "cell_type": "markdown",
   "metadata": {},
   "source": [
    "First set up a new conda environment with some basic dependencies:"
   ]
  },
  {
   "cell_type": "markdown",
   "metadata": {},
   "source": [
    "```sh\n",
    "conda create -n pyhscore python pip ipykernel\n",
    "```"
   ]
  },
  {
   "cell_type": "markdown",
   "metadata": {},
   "source": [
    "Then activate the environment and install the package:"
   ]
  },
  {
   "cell_type": "markdown",
   "metadata": {},
   "source": [
    "```sh\n",
    "conda activate pyhscore\n",
    "```"
   ]
  },
  {
   "cell_type": "markdown",
   "metadata": {},
   "source": [
    "```sh\n",
    "pip install pyhscore\n",
    "```"
   ]
  },
  {
   "cell_type": "markdown",
   "metadata": {},
   "source": [
    "## How to use"
   ]
  },
  {
   "cell_type": "markdown",
   "metadata": {},
   "source": [
    "Always ensure you are using an active environment where the package has been installed to. If you followed the suggested install instructions that can be done by running `` conda activate pyhscore``.\n"
   ]
  },
  {
   "cell_type": "code",
   "execution_count": null,
   "metadata": {},
   "outputs": [
    {
     "name": "stdout",
     "output_type": "stream",
     "text": [
      "Help on function compute_pxlhscore in module pyhscore.score:\n",
      "\n",
      "compute_pxlhscore(hed_img, h_threshold=0.05, d_thresholds=[0.12, 0.24, 0.6], verbose=False)\n",
      "    Computes the pixel H-score for a given HED (Hematoxylin and Eosin-DAB) stained image.\n",
      "\n",
      "    The H-score is calculated based on the intensity of the DAB stain, which is\n",
      "    indicative of the presence and quantity of a specific biomarker in IHC images.\n",
      "    The function allows for automatic thresholding based on the distribution of staining intensities.\n",
      "    Inspired by the implementation in Ram et al. 2021.\n",
      "\n",
      "    Parameters:\n",
      "\n",
      "    - hed_img (numpy.ndarray): The HED-stained image as a NumPy array of shape\n",
      "        (height, width, channels).\n",
      "\n",
      "    - h_threshold (str or float): Threshold for Hematoxylin intensity.\n",
      "        If 'auto', the threshold is set to the mean intensity.\n",
      "\n",
      "    - d_thresholds (str or list of floats): Thresholds for DAB intensity,\n",
      "        defining negative, low, medium, and high intensity ranges.\n",
      "        If 'auto', thresholds are set to the 90th, 94.95th, and 99.9th percentiles.\n",
      "\n",
      "    - verbose (bool): If True, displays histograms of the distributions of\n",
      "        Hematoxylin and DAB stain values, and images showing pixels classified\n",
      "        as high, medium, low, and negative DAB stained.\n",
      "\n",
      "    Returns:\n",
      "\n",
      "    - pxlHscore (float): The pixel H-score, a weighted sum of pixels classified\n",
      "        as having high, medium, or low DAB intensity,\n",
      "        normalized by the total number of pixels considered.\n",
      "\n"
     ]
    }
   ],
   "source": [
    "from pyhscore import score\n",
    "\n",
    "help(score.compute_pxlhscore)"
   ]
  },
  {
   "cell_type": "markdown",
   "metadata": {},
   "source": [
    "## Development\n",
    "\n",
    "It is recommended to use the Dev Container provided with the repo (Miniconda with zsh enabled).\n",
    "Once within the container, pip install `nbdev` and `pyhscore \".[dev]\"`.\n",
    "\n",
    "Ensure also that quarto is installed by doing `nbdev_install_quarto`.\n",
    "\n",
    "If working with VS code, note that the nbdev jupyter clean-up hooks might not work properly, so make sure the git commit hooks are setup properly (https://nbdev.fast.ai/tutorials/pre_commit.html) or install the nbdev VS code extension.\n",
    "\n",
    "Before commiting, ensure the following is run (either manually or via hooks/extensions)\n",
    "\n",
    "1. nbdev_export\n",
    "2. nbdev_test\n",
    "3. nbdev_clean\n",
    "4. nbdev_readme\n",
    "5. nbdev_preview"
   ]
  },
  {
   "cell_type": "markdown",
   "metadata": {},
   "source": []
  }
 ],
 "metadata": {
  "kernelspec": {
   "display_name": "python3",
   "language": "python",
   "name": "python3"
  }
 },
 "nbformat": 4,
 "nbformat_minor": 4
}
